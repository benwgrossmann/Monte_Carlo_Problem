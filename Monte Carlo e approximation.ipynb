{
 "cells": [
  {
   "cell_type": "markdown",
   "id": "207578df",
   "metadata": {},
   "source": [
    "## Experiment:\n",
    "\n",
    "Draw $X_i$ from uniform distribution over $[0,1]$. $\\tau$ is the smallest $n$ such that $X_1 + \\cdots + X_n > 1$.\n",
    "\n",
    "Supposedly, $\\Bbb E[\\tau] = e$"
   ]
  },
  {
   "cell_type": "code",
   "execution_count": 28,
   "id": "342dbacc",
   "metadata": {},
   "outputs": [
    {
     "name": "stdout",
     "output_type": "stream",
     "text": [
      "Average tau: 2.7013\n"
     ]
    },
    {
     "data": {
      "image/png": "[encoded data removed]",
      "text/plain": [
       "<Figure size 432x288 with 1 Axes>"
      ]
     },
     "metadata": {
      "needs_background": "light"
     },
     "output_type": "display_data"
    }
   ],
   "source": [
    "import numpy as np\n",
    "from numpy.random import rand\n",
    "import matplotlib.pyplot as plt\n",
    "\n",
    "N = 10_000\n",
    "\n",
    "results = []\n",
    "for _ in range(N):\n",
    "    x_sum = count = 0\n",
    "    while x_sum <= 1 and count < 1_000:\n",
    "        x_sum += rand()\n",
    "        count += 1\n",
    "    results.append(count)\n",
    "\n",
    "print(f\"Average tau: {np.mean(results)}\")\n",
    "\n",
    "plt.hist(results, bins = 0.5 + np.arange(1,max(results) + 1), density = True)\n",
    "plt.show()"
   ]
  },
  {
   "cell_type": "markdown",
   "id": "8b92248d",
   "metadata": {},
   "source": [
    "## Justification:\n",
    "\n",
    "\n",
    "Let $\\tau_m$ denote the smallest $n$ such that $X_1 + \\cdots + X_n > m$. Let $f(m) = \\Bbb E[\\tau_m]$. \n",
    "\n",
    "We have:\n",
    "$$\n",
    "\\Bbb E[\\tau_m] = \\int_0^m \\Bbb E[\\tau_m | X_1 = x] + \\int_m^1 1\\,dx\\\\\n",
    "= \\int_0^m (1 + \\Bbb E[\\tau_{m-x}])\\,dx + (1-m)\n",
    "$$\n",
    "That is, \n",
    "$$\n",
    "f(m) = \\int_0^m (1 + f(x))\\,dx + (1-m)\n",
    "$$\n",
    "Differentiating on both sides yields\n",
    "$$\n",
    "f'(m) = (1 + f(m)) - 1 \\implies\\\\\n",
    "f'(m) = f(m)\n",
    "$$\n",
    "Now that we have a differential equation, we need a reasonable value to assign $f(0)$. The trick is to select a value that will make $f(m)$ a continuous function (and in fact, we should expect $f$ to be differentiable).\n",
    "\n",
    "I claim that the correct value here is $f(0) = 1$. Intuitively, we can justify this as follows: for small positive $m$, we should expect passing $m$ with $X_1$ alone to be practically a guarantee. So, the expected number of $X_i$ required should be slightly more than $1$ for small $m$, approaching $1$ as $m \\to 0^+$. \n",
    "\n",
    "A more rigorous justification is presented further down.\n",
    "\n",
    "With that, we now see that $f$ satisfies the initial value problem\n",
    "$$\n",
    "f'(m) = f(m); \\quad f(0) = 1.\n",
    "$$\n",
    "With that, we conclude that $f(m) = e^m$, hence $f(1) = e^1 = e$, which was the expected result.\n",
    "\n",
    "\n",
    "-----\n",
    "\n",
    "Justification of $f(0) = 1$. \n",
    "\n",
    "As a more rigorous justification, we claim (without proof) that $f(m)$ is a positive, increasing function over $m$, and that $f(1)$ is finite. With that, we note that for $0 < m < 1$, we have\n",
    "$$\n",
    "\\begin{align}\n",
    "f(m) - 1 &= \\left[\\int_0^m (1 + f(x))\\,dx + (1-m)\\right] - 1\n",
    "\\\\ & = m + \\int_0^m (1 + f(x))\\,dx\n",
    "\\end{align}\n",
    "$$\n",
    "We see at this point that $f(m) - 1$ is positive. We have\n",
    "$$\n",
    "\\begin{align}\n",
    "f(m) - 1 &= m + \\int_0^m (1 + f(x))\\,dx \n",
    "\\\\ & \\leq m + \\int_0^m (1 + f(1))\\,dx\n",
    "\\\\ & \\leq m + m \\cdot [1 + f(1)] = (2 + f(1)) m\n",
    "\\end{align}\n",
    "$$\n",
    "Thus, we have $0 \\leq f(m) - 1 \\leq (2 + f(1))m$. By the squeeze theorem, conclude that $\\lim_{m \\to 0^+}(f(m) - 1) = 0$, hence $\\lim_{m \\to 0^+}f(m) = 1$."
   ]
  }
 ],
 "metadata": {
  "kernelspec": {
   "display_name": "Python 3 (ipykernel)",
   "language": "python",
   "name": "python3"
  },
  "language_info": {
   "codemirror_mode": {
    "name": "ipython",
    "version": 3
   },
   "file_extension": ".py",
   "mimetype": "text/x-python",
   "name": "python",
   "nbconvert_exporter": "python",
   "pygments_lexer": "ipython3",
   "version": "3.8.6"
  }
 },
 "nbformat": 4,
 "nbformat_minor": 5
}
